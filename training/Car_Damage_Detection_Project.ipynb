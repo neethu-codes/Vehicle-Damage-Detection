{
 "cells": [
  {
   "cell_type": "markdown",
   "id": "09d5aa9f-5cdb-4ac1-96f0-1dbf1c28c322",
   "metadata": {},
   "source": [
    "# Car Damage Prediction Project"
   ]
  },
  {
   "cell_type": "markdown",
   "id": "e5b91356-330a-46a9-95e7-5ba4cd38b789",
   "metadata": {},
   "source": [
    "#### Import Libraries and set the device"
   ]
  },
  {
   "cell_type": "code",
   "execution_count": 27,
   "id": "62569424-637d-4aba-8781-09b688f50bab",
   "metadata": {},
   "outputs": [],
   "source": [
    "import os\n",
    "from torchvision import datasets, transforms\n",
    "from torch.utils.data import DataLoader, random_split\n",
    "import torch\n",
    "import torch.nn as nn\n",
    "import torch.optim as optim\n",
    "import torch.nn.functional as F\n",
    "import time\n",
    "import torchvision.models as models\n",
    "from matplotlib import pyplot as plt\n",
    "import optuna"
   ]
  },
  {
   "cell_type": "code",
   "execution_count": 2,
   "id": "d3f77ca9-0f2b-489c-9dc2-6b97b61fa127",
   "metadata": {},
   "outputs": [
    {
     "name": "stdout",
     "output_type": "stream",
     "text": [
      "mps\n"
     ]
    }
   ],
   "source": [
    "import torch\n",
    "\n",
    "device = torch.device(\"mps\" if torch.backends.mps.is_available() else \"cpu\")\n",
    "print(device)\n"
   ]
  },
  {
   "cell_type": "markdown",
   "id": "49a96b4f-86c8-41f3-9706-ad4b8074b2e9",
   "metadata": {},
   "source": [
    "### Load Data"
   ]
  },
  {
   "cell_type": "code",
   "execution_count": 3,
   "id": "a6f54bac-1c5e-4e78-8f15-dfa77fdb6a91",
   "metadata": {},
   "outputs": [],
   "source": [
    "image_transforms = transforms.Compose([\n",
    "    transforms.RandomHorizontalFlip(),\n",
    "    transforms.RandomRotation(10),\n",
    "    transforms.ColorJitter(brightness=0.2, contrast=0.2),\n",
    "    transforms.Resize((224, 224)),\n",
    "    transforms.ToTensor(),\n",
    "    transforms.Normalize(mean=[0.485, 0.456, 0.406], std=[0.229, 0.224, 0.225])\n",
    "])"
   ]
  },
  {
   "cell_type": "code",
   "execution_count": 4,
   "id": "415faa37-59a8-480d-83c9-745fd535d393",
   "metadata": {},
   "outputs": [],
   "source": [
    "import shutil\n",
    "ipynb_path = os.path.join(\"dataset\", \".ipynb_checkpoints\")\n",
    "if os.path.exists(ipynb_path):\n",
    "    shutil.rmtree(ipynb_path)"
   ]
  },
  {
   "cell_type": "code",
   "execution_count": 5,
   "id": "d3b519d5-abcd-4398-b3d9-18113dcb8d7a",
   "metadata": {},
   "outputs": [
    {
     "data": {
      "text/plain": [
       "2300"
      ]
     },
     "execution_count": 5,
     "metadata": {},
     "output_type": "execute_result"
    }
   ],
   "source": [
    "dataset_path = \"dataset\"\n",
    "dataset = datasets.ImageFolder(dataset_path,transform=image_transforms)\n",
    "len(dataset)\n",
    "                              "
   ]
  },
  {
   "cell_type": "code",
   "execution_count": 39,
   "id": "53cfcf36-6c1d-4ea1-8293-b94f4a2e1328",
   "metadata": {},
   "outputs": [],
   "source": [
    "class_names = dataset.classes"
   ]
  },
  {
   "cell_type": "code",
   "execution_count": 6,
   "id": "a08df3a3-3aa6-443f-8773-8b6949cf58ec",
   "metadata": {},
   "outputs": [
    {
     "data": {
      "text/plain": [
       "6"
      ]
     },
     "execution_count": 6,
     "metadata": {},
     "output_type": "execute_result"
    }
   ],
   "source": [
    "num_classes = len(dataset.classes)\n",
    "num_classes"
   ]
  },
  {
   "cell_type": "code",
   "execution_count": 7,
   "id": "faec4ff9-a61f-4b1a-a87e-1c18e57aecfe",
   "metadata": {},
   "outputs": [
    {
     "data": {
      "text/plain": [
       "(1725, 575)"
      ]
     },
     "execution_count": 7,
     "metadata": {},
     "output_type": "execute_result"
    }
   ],
   "source": [
    "train_size = int(0.75*len(dataset))\n",
    "val_size  = len(dataset)-train_size\n",
    "train_size,val_size"
   ]
  },
  {
   "cell_type": "code",
   "execution_count": 8,
   "id": "abde2b02-975b-4978-b5db-07840eb3d6f8",
   "metadata": {},
   "outputs": [],
   "source": [
    "train_dataset, val_dataset = random_split(dataset,[train_size,val_size])"
   ]
  },
  {
   "cell_type": "code",
   "execution_count": 9,
   "id": "cfe4872f-7e7b-413c-804e-3235298291f9",
   "metadata": {},
   "outputs": [],
   "source": [
    "train_dataloader = DataLoader(train_dataset,batch_size=32,shuffle=True)\n",
    "val_dataloader = DataLoader(val_dataset,batch_size=32,shuffle=True)"
   ]
  },
  {
   "cell_type": "code",
   "execution_count": 10,
   "id": "d2e3f4d7-8ccf-4d79-a413-519e5381af70",
   "metadata": {},
   "outputs": [
    {
     "name": "stdout",
     "output_type": "stream",
     "text": [
      "torch.Size([32, 3, 224, 224])\n",
      "torch.Size([32])\n"
     ]
    }
   ],
   "source": [
    "for images, labels in train_dataloader:\n",
    "    print(images.shape)\n",
    "    print(labels.shape)\n",
    "    break"
   ]
  },
  {
   "cell_type": "code",
   "execution_count": 11,
   "id": "3f6850db-b8f2-40d3-acca-073c856a6a0f",
   "metadata": {},
   "outputs": [],
   "source": [
    "img = images[0]"
   ]
  },
  {
   "cell_type": "code",
   "execution_count": 12,
   "id": "61d49a64-bf32-4e6e-90d3-d6ad511c4363",
   "metadata": {},
   "outputs": [
    {
     "data": {
      "text/plain": [
       "torch.Size([3, 224, 224])"
      ]
     },
     "execution_count": 12,
     "metadata": {},
     "output_type": "execute_result"
    }
   ],
   "source": [
    "img.shape"
   ]
  },
  {
   "cell_type": "code",
   "execution_count": 13,
   "id": "a8f74d2e-2218-400c-b30d-ee99fb664a5d",
   "metadata": {},
   "outputs": [
    {
     "data": {
      "text/plain": [
       "torch.Size([224, 224, 3])"
      ]
     },
     "execution_count": 13,
     "metadata": {},
     "output_type": "execute_result"
    }
   ],
   "source": [
    "img.permute(1,2,0).shape"
   ]
  },
  {
   "cell_type": "code",
   "execution_count": 14,
   "id": "d81694df-5e7e-4389-8185-a24f38ef6e63",
   "metadata": {},
   "outputs": [
    {
     "name": "stderr",
     "output_type": "stream",
     "text": [
      "Clipping input data to the valid range for imshow with RGB data ([0..1] for floats or [0..255] for integers). Got range [-2.0494049..2.5702832].\n"
     ]
    },
    {
     "data": {
      "image/png": "[encoded data removed]",
      "text/plain": [
       "<Figure size 640x480 with 1 Axes>"
      ]
     },
     "metadata": {},
     "output_type": "display_data"
    }
   ],
   "source": [
    "plt.imshow(img.permute(1,2,0))\n",
    "plt.show()"
   ]
  },
  {
   "cell_type": "markdown",
   "id": "e1759028-c2a4-4cd3-a61f-2ea4ac821886",
   "metadata": {},
   "source": [
    "### Model 1: CNN"
   ]
  },
  {
   "cell_type": "code",
   "execution_count": 15,
   "id": "940fa4d5-8b3f-42b9-8add-417711cdfaca",
   "metadata": {},
   "outputs": [],
   "source": [
    "class CarClassifierCNN(nn.Module):\n",
    "    def __init__(self,num_classes):\n",
    "        super().__init__()\n",
    "        self.network = nn.Sequential(\n",
    "            nn.Conv2d(in_channels=3,out_channels=16,kernel_size=3,stride=1,padding=1), # (3,224,224) -> (16,224,224)\n",
    "            nn.ReLU(),\n",
    "            nn.MaxPool2d(kernel_size=2,stride=2,padding=0), #(16,224,224)->(16,112,112)\n",
    "\n",
    "            nn.Conv2d(in_channels=16,out_channels=32,kernel_size=3,stride=1,padding=1), # (16,224,224) -> (32,224,224)\n",
    "            nn.ReLU(),\n",
    "            nn.MaxPool2d(kernel_size=2,stride=2,padding=0), #(32,112,112)->(32,56,56)\n",
    "\n",
    "            nn.Conv2d(in_channels=32,out_channels=64,kernel_size=3,stride=1,padding=1), # (32,56,56) -> (64,56,56)\n",
    "            nn.ReLU(),\n",
    "            nn.MaxPool2d(kernel_size=2,stride=2,padding=0), #(64,56,56)->(64,28,28)\n",
    "\n",
    "            nn.Flatten(),\n",
    "\n",
    "            nn.Linear(64*28*28,512),\n",
    "            nn.ReLU(),\n",
    "\n",
    "            nn.Linear(512,num_classes)  \n",
    "        )\n",
    "\n",
    "    def forward(self,x):\n",
    "        x = self.network(x)\n",
    "        return x"
   ]
  },
  {
   "cell_type": "code",
   "execution_count": 16,
   "id": "e01510c6-4609-4b7e-a8ee-622ee0a1115b",
   "metadata": {},
   "outputs": [],
   "source": [
    "model = CarClassifierCNN(num_classes=num_classes)\n",
    "criterion = nn.CrossEntropyLoss()\n",
    "optimizer = optim.Adam(model.parameters(),lr=0.001)"
   ]
  },
  {
   "cell_type": "code",
   "execution_count": 17,
   "id": "a2596934-e2b3-4271-b561-a3f201814e35",
   "metadata": {},
   "outputs": [],
   "source": [
    "def train_model(model,criterion,optimizer,epochs=5):\n",
    "    start = time.time()\n",
    "    for epoch in range(epochs):\n",
    "        model.train()\n",
    "        running_loss=0.0\n",
    "        losses = []\n",
    "        for batch_num, (images,labels) in enumerate(train_dataloader):\n",
    "            images,labels = images.to(device), labels.to(device)\n",
    "\n",
    "            # zero the parameter gradients\n",
    "            optimizer.zero_grad()\n",
    "            #forward pass\n",
    "            outputs = model(images)\n",
    "            loss = criterion(outputs,labels)\n",
    "\n",
    "            #backward pass\n",
    "            loss.backward()\n",
    "            optimizer.step()\n",
    "\n",
    "            running_loss+=loss.item() * images.size(0)  # images.size(0)=batchsize -> this gives loss of a batch\n",
    "            losses.append(loss.item())\n",
    "            if (batch_num+1) % 10 == 0:\n",
    "                print(f\"Batch: {batch_num+1}, Epoch: {epoch+1}, Loss: {loss.item():0.2f}\")\n",
    "            \n",
    "\n",
    "        epoch_loss = running_loss/len(train_dataloader.dataset)\n",
    "        my_epoch_loss = sum(losses) / len(losses)\n",
    "        \n",
    "        print(f\"Epoch [{epoch+1}/{epochs}], Avg Loss: {epoch_loss:.4f}, trainloader size:{len(train_dataloader.dataset)}, my loss: {my_epoch_loss}\")\n",
    "\n",
    "\n",
    "\n",
    "        model.eval()\n",
    "        correct=0\n",
    "        total=0\n",
    "        all_labels=[]\n",
    "        all_predictions=[]\n",
    "        with torch.no_grad():\n",
    "            for images, labels in val_dataloader:\n",
    "                images, label = images.to(device), labels.to(device)\n",
    "                outputs=model(images)\n",
    "                _,predicted = torch.max(outputs.data,1)\n",
    "                total += labels.size(0)\n",
    "                correct += (predicted == labels.to(device)).sum().item()\n",
    "                all_labels.extend(labels.cpu().numpy())\n",
    "                all_predictions.extend(predicted.cpu().numpy())\n",
    "                \n",
    "            print(f\"*** Validation Accuracy: {100 * correct / total:.2f}% ***\")\n",
    "            \n",
    "    end = time.time()\n",
    "    print(f\"Execution time: {end - start} seconds\")     \n",
    "    \n",
    "    return all_labels, all_predictions"
   ]
  },
  {
   "cell_type": "code",
   "execution_count": 18,
   "id": "34c4277e-1145-4f22-b0d1-4a3e9abb6900",
   "metadata": {},
   "outputs": [
    {
     "name": "stdout",
     "output_type": "stream",
     "text": [
      "Batch: 10, Epoch: 1, Loss: 1.80\n",
      "Batch: 20, Epoch: 1, Loss: 1.79\n",
      "Batch: 30, Epoch: 1, Loss: 1.75\n",
      "Batch: 40, Epoch: 1, Loss: 1.52\n",
      "Batch: 50, Epoch: 1, Loss: 1.45\n",
      "Epoch [1/10], Avg Loss: 2.1266, trainloader size:1725, my loss: 2.1256599073056823\n",
      "*** Validation Accuracy: 45.39% ***\n",
      "Batch: 10, Epoch: 2, Loss: 1.24\n",
      "Batch: 20, Epoch: 2, Loss: 1.69\n",
      "Batch: 30, Epoch: 2, Loss: 1.46\n",
      "Batch: 40, Epoch: 2, Loss: 1.27\n",
      "Batch: 50, Epoch: 2, Loss: 1.12\n",
      "Epoch [2/10], Avg Loss: 1.4459, trainloader size:1725, my loss: 1.4451970413879112\n",
      "*** Validation Accuracy: 49.91% ***\n",
      "Batch: 10, Epoch: 3, Loss: 1.23\n",
      "Batch: 20, Epoch: 3, Loss: 1.41\n",
      "Batch: 30, Epoch: 3, Loss: 1.16\n",
      "Batch: 40, Epoch: 3, Loss: 1.17\n",
      "Batch: 50, Epoch: 3, Loss: 1.30\n",
      "Epoch [3/10], Avg Loss: 1.1732, trainloader size:1725, my loss: 1.1730660752013877\n",
      "*** Validation Accuracy: 54.61% ***\n",
      "Batch: 10, Epoch: 4, Loss: 1.00\n",
      "Batch: 20, Epoch: 4, Loss: 1.18\n",
      "Batch: 30, Epoch: 4, Loss: 0.96\n",
      "Batch: 40, Epoch: 4, Loss: 0.91\n",
      "Batch: 50, Epoch: 4, Loss: 1.06\n",
      "Epoch [4/10], Avg Loss: 1.0327, trainloader size:1725, my loss: 1.0331651402844324\n",
      "*** Validation Accuracy: 55.13% ***\n",
      "Batch: 10, Epoch: 5, Loss: 0.81\n",
      "Batch: 20, Epoch: 5, Loss: 0.96\n",
      "Batch: 30, Epoch: 5, Loss: 1.04\n",
      "Batch: 40, Epoch: 5, Loss: 0.78\n",
      "Batch: 50, Epoch: 5, Loss: 1.10\n",
      "Epoch [5/10], Avg Loss: 0.9581, trainloader size:1725, my loss: 0.9578272291907558\n",
      "*** Validation Accuracy: 57.39% ***\n",
      "Batch: 10, Epoch: 6, Loss: 0.60\n",
      "Batch: 20, Epoch: 6, Loss: 0.98\n",
      "Batch: 30, Epoch: 6, Loss: 1.11\n",
      "Batch: 40, Epoch: 6, Loss: 0.74\n",
      "Batch: 50, Epoch: 6, Loss: 0.85\n",
      "Epoch [6/10], Avg Loss: 0.8823, trainloader size:1725, my loss: 0.8822042489493335\n",
      "*** Validation Accuracy: 58.78% ***\n",
      "Batch: 10, Epoch: 7, Loss: 1.00\n",
      "Batch: 20, Epoch: 7, Loss: 1.02\n",
      "Batch: 30, Epoch: 7, Loss: 1.04\n",
      "Batch: 40, Epoch: 7, Loss: 0.83\n",
      "Batch: 50, Epoch: 7, Loss: 0.68\n",
      "Epoch [7/10], Avg Loss: 0.8274, trainloader size:1725, my loss: 0.8275622063212924\n",
      "*** Validation Accuracy: 56.52% ***\n",
      "Batch: 10, Epoch: 8, Loss: 0.84\n",
      "Batch: 20, Epoch: 8, Loss: 0.56\n",
      "Batch: 30, Epoch: 8, Loss: 1.00\n",
      "Batch: 40, Epoch: 8, Loss: 0.73\n",
      "Batch: 50, Epoch: 8, Loss: 0.80\n",
      "Epoch [8/10], Avg Loss: 0.7621, trainloader size:1725, my loss: 0.7619551409173895\n",
      "*** Validation Accuracy: 58.09% ***\n",
      "Batch: 10, Epoch: 9, Loss: 0.74\n",
      "Batch: 20, Epoch: 9, Loss: 0.95\n",
      "Batch: 30, Epoch: 9, Loss: 0.46\n",
      "Batch: 40, Epoch: 9, Loss: 0.62\n",
      "Batch: 50, Epoch: 9, Loss: 0.67\n",
      "Epoch [9/10], Avg Loss: 0.6851, trainloader size:1725, my loss: 0.685162764456537\n",
      "*** Validation Accuracy: 57.57% ***\n",
      "Batch: 10, Epoch: 10, Loss: 0.65\n",
      "Batch: 20, Epoch: 10, Loss: 0.68\n",
      "Batch: 30, Epoch: 10, Loss: 0.54\n",
      "Batch: 40, Epoch: 10, Loss: 0.80\n",
      "Batch: 50, Epoch: 10, Loss: 0.80\n",
      "Epoch [10/10], Avg Loss: 0.6573, trainloader size:1725, my loss: 0.6575544145372179\n",
      "*** Validation Accuracy: 58.78% ***\n",
      "Execution time: 975.9619090557098 seconds\n"
     ]
    }
   ],
   "source": [
    "model = CarClassifierCNN(num_classes=num_classes).to(device)\n",
    "criterion = nn.CrossEntropyLoss()\n",
    "optimizer = optim.Adam(model.parameters(), lr=0.001)\n",
    "\n",
    "all_labels, all_predictions = train_model(model, criterion, optimizer, epochs=10)"
   ]
  },
  {
   "cell_type": "markdown",
   "id": "3a844a04-63aa-48ef-80c8-b105936b05db",
   "metadata": {},
   "source": [
    "### Model 2: CNN with Regularization"
   ]
  },
  {
   "cell_type": "code",
   "execution_count": 19,
   "id": "e7468cd9-9cec-4cfc-b7c8-ebedff75a99d",
   "metadata": {},
   "outputs": [],
   "source": [
    "class CarClassifierCNNWithRegularization(nn.Module):\n",
    "    def __init__(self, num_classes):\n",
    "        super().__init__()\n",
    "        self.network = nn.Sequential(\n",
    "            nn.Conv2d(in_channels=3, out_channels=16, kernel_size=3, stride=1, padding=1), # (16, 224, 224) \n",
    "            nn.BatchNorm2d(16),\n",
    "            nn.ReLU(),\n",
    "            nn.MaxPool2d(kernel_size=2, stride=2, padding=0), # (16, 112, 112)\n",
    "            \n",
    "            nn.Conv2d(in_channels=16, out_channels=32, kernel_size=3, stride=1, padding=1), \n",
    "            nn.BatchNorm2d(32),\n",
    "            nn.ReLU(),\n",
    "            nn.MaxPool2d(kernel_size=2, stride=2, padding=0), # (32, 56, 56)    \n",
    "            \n",
    "            nn.Conv2d(in_channels=32, out_channels=64, kernel_size=3, stride=1, padding=1), \n",
    "            nn.BatchNorm2d(64),\n",
    "            nn.ReLU(),\n",
    "            nn.MaxPool2d(kernel_size=2, stride=2, padding=0), # (64, 28, 28)\n",
    "            \n",
    "            nn.Flatten(),\n",
    "            \n",
    "            nn.Linear(64*28*28, 512),\n",
    "            nn.ReLU(),\n",
    "            nn.Dropout(0.5),\n",
    "            nn.Linear(512, num_classes)\n",
    "        )\n",
    "        \n",
    "    def forward(self, x):\n",
    "        x = self.network(x)\n",
    "        return x"
   ]
  },
  {
   "cell_type": "code",
   "execution_count": 20,
   "id": "c4bd56d6-c98c-471d-a4f2-a9ca84f0f8c4",
   "metadata": {},
   "outputs": [
    {
     "name": "stdout",
     "output_type": "stream",
     "text": [
      "Batch: 10, Epoch: 1, Loss: 8.94\n",
      "Batch: 20, Epoch: 1, Loss: 4.63\n",
      "Batch: 30, Epoch: 1, Loss: 3.05\n",
      "Batch: 40, Epoch: 1, Loss: 1.36\n",
      "Batch: 50, Epoch: 1, Loss: 1.64\n",
      "Epoch [1/10], Avg Loss: 7.5781, trainloader size:1725, my loss: 7.567383236355251\n",
      "*** Validation Accuracy: 46.96% ***\n",
      "Batch: 10, Epoch: 2, Loss: 1.57\n",
      "Batch: 20, Epoch: 2, Loss: 1.68\n",
      "Batch: 30, Epoch: 2, Loss: 1.39\n",
      "Batch: 40, Epoch: 2, Loss: 1.24\n",
      "Batch: 50, Epoch: 2, Loss: 1.43\n",
      "Epoch [2/10], Avg Loss: 1.3353, trainloader size:1725, my loss: 1.3350319972744695\n",
      "*** Validation Accuracy: 52.17% ***\n",
      "Batch: 10, Epoch: 3, Loss: 1.40\n",
      "Batch: 20, Epoch: 3, Loss: 1.38\n",
      "Batch: 30, Epoch: 3, Loss: 1.21\n",
      "Batch: 40, Epoch: 3, Loss: 1.02\n",
      "Batch: 50, Epoch: 3, Loss: 1.08\n",
      "Epoch [3/10], Avg Loss: 1.2398, trainloader size:1725, my loss: 1.2395566194145768\n",
      "*** Validation Accuracy: 54.78% ***\n",
      "Batch: 10, Epoch: 4, Loss: 0.95\n",
      "Batch: 20, Epoch: 4, Loss: 1.15\n",
      "Batch: 30, Epoch: 4, Loss: 1.27\n",
      "Batch: 40, Epoch: 4, Loss: 1.19\n",
      "Batch: 50, Epoch: 4, Loss: 1.21\n",
      "Epoch [4/10], Avg Loss: 1.1696, trainloader size:1725, my loss: 1.1693726424817685\n",
      "*** Validation Accuracy: 52.35% ***\n",
      "Batch: 10, Epoch: 5, Loss: 0.85\n",
      "Batch: 20, Epoch: 5, Loss: 0.90\n",
      "Batch: 30, Epoch: 5, Loss: 1.18\n",
      "Batch: 40, Epoch: 5, Loss: 1.35\n",
      "Batch: 50, Epoch: 5, Loss: 1.30\n",
      "Epoch [5/10], Avg Loss: 1.1103, trainloader size:1725, my loss: 1.1102766306311995\n",
      "*** Validation Accuracy: 54.61% ***\n",
      "Batch: 10, Epoch: 6, Loss: 1.02\n",
      "Batch: 20, Epoch: 6, Loss: 1.02\n",
      "Batch: 30, Epoch: 6, Loss: 1.24\n",
      "Batch: 40, Epoch: 6, Loss: 1.02\n",
      "Batch: 50, Epoch: 6, Loss: 0.95\n",
      "Epoch [6/10], Avg Loss: 1.1048, trainloader size:1725, my loss: 1.1046957550225434\n",
      "*** Validation Accuracy: 56.17% ***\n",
      "Batch: 10, Epoch: 7, Loss: 1.15\n",
      "Batch: 20, Epoch: 7, Loss: 0.82\n",
      "Batch: 30, Epoch: 7, Loss: 0.88\n",
      "Batch: 40, Epoch: 7, Loss: 0.93\n",
      "Batch: 50, Epoch: 7, Loss: 0.98\n",
      "Epoch [7/10], Avg Loss: 1.0685, trainloader size:1725, my loss: 1.06888821610698\n",
      "*** Validation Accuracy: 55.30% ***\n",
      "Batch: 10, Epoch: 8, Loss: 1.03\n",
      "Batch: 20, Epoch: 8, Loss: 1.06\n",
      "Batch: 30, Epoch: 8, Loss: 1.16\n",
      "Batch: 40, Epoch: 8, Loss: 0.87\n",
      "Batch: 50, Epoch: 8, Loss: 1.00\n",
      "Epoch [8/10], Avg Loss: 1.0833, trainloader size:1725, my loss: 1.0831493691161826\n",
      "*** Validation Accuracy: 54.26% ***\n",
      "Batch: 10, Epoch: 9, Loss: 0.81\n",
      "Batch: 20, Epoch: 9, Loss: 1.20\n",
      "Batch: 30, Epoch: 9, Loss: 1.20\n",
      "Batch: 40, Epoch: 9, Loss: 1.24\n",
      "Batch: 50, Epoch: 9, Loss: 1.25\n",
      "Epoch [9/10], Avg Loss: 1.0579, trainloader size:1725, my loss: 1.0580762238414199\n",
      "*** Validation Accuracy: 58.61% ***\n",
      "Batch: 10, Epoch: 10, Loss: 1.17\n",
      "Batch: 20, Epoch: 10, Loss: 1.10\n",
      "Batch: 30, Epoch: 10, Loss: 1.20\n",
      "Batch: 40, Epoch: 10, Loss: 1.21\n",
      "Batch: 50, Epoch: 10, Loss: 1.08\n",
      "Epoch [10/10], Avg Loss: 1.0459, trainloader size:1725, my loss: 1.0458241204420726\n",
      "*** Validation Accuracy: 58.26% ***\n",
      "Execution time: 690.8649349212646 seconds\n"
     ]
    }
   ],
   "source": [
    "model = CarClassifierCNNWithRegularization(num_classes=num_classes).to(device)\n",
    "criterion = nn.CrossEntropyLoss()\n",
    "optimizer = optim.Adam(model.parameters(), lr=0.001, weight_decay=1e-4)\n",
    "\n",
    "all_labels, all_predictions = train_model(model, criterion, optimizer,  epochs=10)"
   ]
  },
  {
   "cell_type": "markdown",
   "id": "411d508f-aba0-4a72-b800-1cb63f9f2eca",
   "metadata": {},
   "source": [
    "### Model 3: Transfer Learning with EfficientNet"
   ]
  },
  {
   "cell_type": "code",
   "execution_count": 21,
   "id": "65e05445-de5e-4ed7-9efe-682c5df7352d",
   "metadata": {},
   "outputs": [],
   "source": [
    "class CarClassifierEfficientNet(nn.Module):\n",
    "    def __init__(self, num_classes):\n",
    "        super().__init__()\n",
    "        self.model = models.efficientnet_b0(weights='DEFAULT')\n",
    "        \n",
    "        # Freeze all layers except the final fully connected layer\n",
    "        for param in self.model.parameters():\n",
    "            param.requires_grad = False\n",
    "        \n",
    "        in_features = self.model.classifier[1].in_features\n",
    "        \n",
    "        self.model.classifier = nn.Sequential(\n",
    "            nn.Dropout(0.5),\n",
    "            nn.Linear(in_features, num_classes)\n",
    "        )\n",
    "        \n",
    "    def forward(self, x):\n",
    "        x = self.model(x)\n",
    "        return x           "
   ]
  },
  {
   "cell_type": "code",
   "execution_count": 22,
   "id": "9a9d37e6-b4aa-4758-9c1d-8c37c1ff5044",
   "metadata": {},
   "outputs": [
    {
     "name": "stdout",
     "output_type": "stream",
     "text": [
      "Batch: 10, Epoch: 1, Loss: 1.73\n",
      "Batch: 20, Epoch: 1, Loss: 1.57\n",
      "Batch: 30, Epoch: 1, Loss: 1.50\n",
      "Batch: 40, Epoch: 1, Loss: 1.13\n",
      "Batch: 50, Epoch: 1, Loss: 1.26\n",
      "Epoch [1/10], Avg Loss: 1.4590, trainloader size:1725, my loss: 1.4586594038539462\n",
      "*** Validation Accuracy: 60.87% ***\n",
      "Batch: 10, Epoch: 2, Loss: 1.20\n",
      "Batch: 20, Epoch: 2, Loss: 1.13\n",
      "Batch: 30, Epoch: 2, Loss: 1.09\n",
      "Batch: 40, Epoch: 2, Loss: 1.07\n",
      "Batch: 50, Epoch: 2, Loss: 1.12\n",
      "Epoch [2/10], Avg Loss: 1.1394, trainloader size:1725, my loss: 1.1396016445424821\n",
      "*** Validation Accuracy: 63.48% ***\n",
      "Batch: 10, Epoch: 3, Loss: 0.91\n",
      "Batch: 20, Epoch: 3, Loss: 0.79\n",
      "Batch: 30, Epoch: 3, Loss: 0.78\n",
      "Batch: 40, Epoch: 3, Loss: 0.88\n",
      "Batch: 50, Epoch: 3, Loss: 1.07\n",
      "Epoch [3/10], Avg Loss: 1.0147, trainloader size:1725, my loss: 1.0146608374736927\n",
      "*** Validation Accuracy: 68.17% ***\n",
      "Batch: 10, Epoch: 4, Loss: 0.72\n",
      "Batch: 20, Epoch: 4, Loss: 0.86\n",
      "Batch: 30, Epoch: 4, Loss: 1.05\n",
      "Batch: 40, Epoch: 4, Loss: 0.93\n",
      "Batch: 50, Epoch: 4, Loss: 0.95\n",
      "Epoch [4/10], Avg Loss: 0.9671, trainloader size:1725, my loss: 0.9672051171461741\n",
      "*** Validation Accuracy: 67.48% ***\n",
      "Batch: 10, Epoch: 5, Loss: 0.91\n",
      "Batch: 20, Epoch: 5, Loss: 0.80\n",
      "Batch: 30, Epoch: 5, Loss: 0.88\n",
      "Batch: 40, Epoch: 5, Loss: 0.95\n",
      "Batch: 50, Epoch: 5, Loss: 0.81\n",
      "Epoch [5/10], Avg Loss: 0.9160, trainloader size:1725, my loss: 0.915949507995888\n",
      "*** Validation Accuracy: 68.35% ***\n",
      "Batch: 10, Epoch: 6, Loss: 1.01\n",
      "Batch: 20, Epoch: 6, Loss: 1.02\n",
      "Batch: 30, Epoch: 6, Loss: 1.10\n",
      "Batch: 40, Epoch: 6, Loss: 0.72\n",
      "Batch: 50, Epoch: 6, Loss: 0.77\n",
      "Epoch [6/10], Avg Loss: 0.9145, trainloader size:1725, my loss: 0.9143808473039556\n",
      "*** Validation Accuracy: 68.52% ***\n",
      "Batch: 10, Epoch: 7, Loss: 0.76\n",
      "Batch: 20, Epoch: 7, Loss: 0.78\n",
      "Batch: 30, Epoch: 7, Loss: 0.83\n",
      "Batch: 40, Epoch: 7, Loss: 0.61\n",
      "Batch: 50, Epoch: 7, Loss: 0.78\n",
      "Epoch [7/10], Avg Loss: 0.8663, trainloader size:1725, my loss: 0.8661769871358518\n",
      "*** Validation Accuracy: 67.30% ***\n",
      "Batch: 10, Epoch: 8, Loss: 0.93\n",
      "Batch: 20, Epoch: 8, Loss: 0.78\n",
      "Batch: 30, Epoch: 8, Loss: 0.96\n",
      "Batch: 40, Epoch: 8, Loss: 0.70\n",
      "Batch: 50, Epoch: 8, Loss: 0.73\n",
      "Epoch [8/10], Avg Loss: 0.8524, trainloader size:1725, my loss: 0.8527009796213221\n",
      "*** Validation Accuracy: 70.26% ***\n",
      "Batch: 10, Epoch: 9, Loss: 0.86\n",
      "Batch: 20, Epoch: 9, Loss: 0.77\n",
      "Batch: 30, Epoch: 9, Loss: 0.83\n",
      "Batch: 40, Epoch: 9, Loss: 0.88\n",
      "Batch: 50, Epoch: 9, Loss: 0.99\n",
      "Epoch [9/10], Avg Loss: 0.8391, trainloader size:1725, my loss: 0.8389574201018722\n",
      "*** Validation Accuracy: 69.57% ***\n",
      "Batch: 10, Epoch: 10, Loss: 0.89\n",
      "Batch: 20, Epoch: 10, Loss: 0.97\n",
      "Batch: 30, Epoch: 10, Loss: 0.78\n",
      "Batch: 40, Epoch: 10, Loss: 0.84\n",
      "Batch: 50, Epoch: 10, Loss: 0.86\n",
      "Epoch [10/10], Avg Loss: 0.8297, trainloader size:1725, my loss: 0.8298048564681301\n",
      "*** Validation Accuracy: 69.04% ***\n",
      "Execution time: 710.341292142868 seconds\n"
     ]
    }
   ],
   "source": [
    "model = CarClassifierEfficientNet(num_classes=num_classes).to(device)\n",
    "criterion = nn.CrossEntropyLoss()\n",
    "optimizer = optim.Adam(filter(lambda p: p.requires_grad, model.parameters()), lr=0.001) #optimise only the parameters that needs gradient computation\n",
    "\n",
    "all_labels, all_predictions = train_model(model, criterion, optimizer, epochs=10)"
   ]
  },
  {
   "cell_type": "markdown",
   "id": "5dfc03ae-e275-4487-b0a5-ddae79c66a8e",
   "metadata": {},
   "source": [
    "### Model 4: Transfer Learning with ResNet"
   ]
  },
  {
   "cell_type": "code",
   "execution_count": 23,
   "id": "76a8827d-b082-4107-b6a6-c3b7ec644b84",
   "metadata": {},
   "outputs": [],
   "source": [
    "# Load the pre-trained ResNet model\n",
    "class CarClassifierResNet(nn.Module):\n",
    "    def __init__(self, num_classes, dropout_rate=0.5):\n",
    "        super().__init__()\n",
    "        self.model = models.resnet50(weights='DEFAULT')\n",
    "        \n",
    "        # Freeze all layers except the final fully connected layer\n",
    "        for param in self.model.parameters():\n",
    "            param.requires_grad = False\n",
    "            \n",
    "        # Unfreeze layer4 and fc layers\n",
    "        for param in self.model.layer4.parameters():\n",
    "            param.requires_grad = True            \n",
    "            \n",
    "        # Replace the final fully connected layer\n",
    "        self.model.fc = nn.Sequential(\n",
    "            nn.Dropout(dropout_rate),\n",
    "            nn.Linear(self.model.fc.in_features, num_classes)\n",
    "        )\n",
    "\n",
    "    def forward(self, x):\n",
    "        x = self.model(x)\n",
    "        return x"
   ]
  },
  {
   "cell_type": "code",
   "execution_count": 24,
   "id": "1a82f263-253d-4eba-9f67-f71c11d88be2",
   "metadata": {},
   "outputs": [
    {
     "name": "stderr",
     "output_type": "stream",
     "text": [
      "Downloading: \"https://download.pytorch.org/models/resnet50-11ad3fa6.pth\" to /Users/neethu/.cache/torch/hub/checkpoints/resnet50-11ad3fa6.pth\n",
      "100%|██████████████████████████████████████| 97.8M/97.8M [00:07<00:00, 12.9MB/s]\n"
     ]
    },
    {
     "name": "stdout",
     "output_type": "stream",
     "text": [
      "Batch: 10, Epoch: 1, Loss: 1.12\n",
      "Batch: 20, Epoch: 1, Loss: 0.79\n",
      "Batch: 30, Epoch: 1, Loss: 0.59\n",
      "Batch: 40, Epoch: 1, Loss: 0.76\n",
      "Batch: 50, Epoch: 1, Loss: 1.10\n",
      "Epoch [1/10], Avg Loss: 0.8818, trainloader size:1725, my loss: 0.8811111505384799\n",
      "*** Validation Accuracy: 75.48% ***\n",
      "Batch: 10, Epoch: 2, Loss: 0.33\n",
      "Batch: 20, Epoch: 2, Loss: 0.38\n",
      "Batch: 30, Epoch: 2, Loss: 0.25\n",
      "Batch: 40, Epoch: 2, Loss: 0.75\n",
      "Batch: 50, Epoch: 2, Loss: 0.65\n",
      "Epoch [2/10], Avg Loss: 0.4781, trainloader size:1725, my loss: 0.4779764985044797\n",
      "*** Validation Accuracy: 78.61% ***\n",
      "Batch: 10, Epoch: 3, Loss: 0.34\n",
      "Batch: 20, Epoch: 3, Loss: 0.44\n",
      "Batch: 30, Epoch: 3, Loss: 0.30\n",
      "Batch: 40, Epoch: 3, Loss: 0.35\n",
      "Batch: 50, Epoch: 3, Loss: 0.38\n",
      "Epoch [3/10], Avg Loss: 0.3344, trainloader size:1725, my loss: 0.33421069714758134\n",
      "*** Validation Accuracy: 78.96% ***\n",
      "Batch: 10, Epoch: 4, Loss: 0.27\n",
      "Batch: 20, Epoch: 4, Loss: 0.14\n",
      "Batch: 30, Epoch: 4, Loss: 0.32\n",
      "Batch: 40, Epoch: 4, Loss: 0.08\n",
      "Batch: 50, Epoch: 4, Loss: 0.32\n",
      "Epoch [4/10], Avg Loss: 0.2465, trainloader size:1725, my loss: 0.24639517165444516\n",
      "*** Validation Accuracy: 76.52% ***\n",
      "Batch: 10, Epoch: 5, Loss: 0.34\n",
      "Batch: 20, Epoch: 5, Loss: 0.13\n",
      "Batch: 30, Epoch: 5, Loss: 0.23\n",
      "Batch: 40, Epoch: 5, Loss: 0.28\n",
      "Batch: 50, Epoch: 5, Loss: 0.13\n",
      "Epoch [5/10], Avg Loss: 0.1971, trainloader size:1725, my loss: 0.19721307860756362\n",
      "*** Validation Accuracy: 76.35% ***\n",
      "Batch: 10, Epoch: 6, Loss: 0.05\n",
      "Batch: 20, Epoch: 6, Loss: 0.09\n",
      "Batch: 30, Epoch: 6, Loss: 0.32\n",
      "Batch: 40, Epoch: 6, Loss: 0.13\n",
      "Batch: 50, Epoch: 6, Loss: 0.12\n",
      "Epoch [6/10], Avg Loss: 0.1597, trainloader size:1725, my loss: 0.1596541935922923\n",
      "*** Validation Accuracy: 81.04% ***\n",
      "Batch: 10, Epoch: 7, Loss: 0.08\n",
      "Batch: 20, Epoch: 7, Loss: 0.14\n",
      "Batch: 30, Epoch: 7, Loss: 0.09\n",
      "Batch: 40, Epoch: 7, Loss: 0.09\n",
      "Batch: 50, Epoch: 7, Loss: 0.06\n",
      "Epoch [7/10], Avg Loss: 0.1110, trainloader size:1725, my loss: 0.11090254621511256\n",
      "*** Validation Accuracy: 80.87% ***\n",
      "Batch: 10, Epoch: 8, Loss: 0.11\n",
      "Batch: 20, Epoch: 8, Loss: 0.02\n",
      "Batch: 30, Epoch: 8, Loss: 0.03\n",
      "Batch: 40, Epoch: 8, Loss: 0.18\n",
      "Batch: 50, Epoch: 8, Loss: 0.16\n",
      "Epoch [8/10], Avg Loss: 0.1291, trainloader size:1725, my loss: 0.1288875987391091\n",
      "*** Validation Accuracy: 80.17% ***\n",
      "Batch: 10, Epoch: 9, Loss: 0.14\n",
      "Batch: 20, Epoch: 9, Loss: 0.24\n",
      "Batch: 30, Epoch: 9, Loss: 0.03\n",
      "Batch: 40, Epoch: 9, Loss: 0.09\n",
      "Batch: 50, Epoch: 9, Loss: 0.20\n",
      "Epoch [9/10], Avg Loss: 0.1092, trainloader size:1725, my loss: 0.10928781603083566\n",
      "*** Validation Accuracy: 81.04% ***\n",
      "Batch: 10, Epoch: 10, Loss: 0.05\n",
      "Batch: 20, Epoch: 10, Loss: 0.02\n",
      "Batch: 30, Epoch: 10, Loss: 0.03\n",
      "Batch: 40, Epoch: 10, Loss: 0.04\n",
      "Batch: 50, Epoch: 10, Loss: 0.08\n",
      "Epoch [10/10], Avg Loss: 0.0970, trainloader size:1725, my loss: 0.09710328781942802\n",
      "*** Validation Accuracy: 81.91% ***\n",
      "Execution time: 5129.501069784164 seconds\n"
     ]
    }
   ],
   "source": [
    "model = CarClassifierResNet(num_classes=num_classes).to(device)\n",
    "criterion = nn.CrossEntropyLoss()\n",
    "optimizer = optim.Adam(filter(lambda p: p.requires_grad, model.parameters()), lr=0.001)\n",
    "\n",
    "labels, predictions = train_model(model, criterion, optimizer, epochs=10)"
   ]
  },
  {
   "cell_type": "markdown",
   "id": "a8e5b13e-98c2-485f-98bb-32bb26780105",
   "metadata": {},
   "source": [
    "### Hyperparameter Tuning"
   ]
  },
  {
   "cell_type": "code",
   "execution_count": 33,
   "id": "b9b2f7de-20c2-4de1-8393-67424a210445",
   "metadata": {},
   "outputs": [],
   "source": [
    "# Define the objective function for Optuna\n",
    "def objective(trial):\n",
    "    # Suggest values for the hyperparameters\n",
    "    lr = trial.suggest_float('lr', 1e-5, 1e-2, log=True)\n",
    "    dropout_rate = trial.suggest_float('dropout_rate', 0.2, 0.7)\n",
    "    \n",
    "    # Load the model\n",
    "    model = CarClassifierResNet(num_classes=num_classes, dropout_rate=dropout_rate).to(device)\n",
    "    \n",
    "    # Define the loss function and optimizer\n",
    "    criterion = nn.CrossEntropyLoss()\n",
    "    optimizer = optim.Adam(filter(lambda p: p.requires_grad, model.parameters()), lr=lr)\n",
    "    \n",
    "    # Training loop (using fewer epochs for faster hyperparameter tuning)\n",
    "    epochs = 3\n",
    "    start = time.time()\n",
    "    for epoch in range(epochs):\n",
    "        model.train()\n",
    "        running_loss = 0.0\n",
    "        for batch_num, (images, labels) in enumerate(train_dataloader):\n",
    "            images, labels = images.to(device), labels.to(device)\n",
    "\n",
    "            optimizer.zero_grad()\n",
    "            outputs = model(images)\n",
    "            loss = criterion(outputs, labels)\n",
    "            loss.backward()\n",
    "            optimizer.step()\n",
    "            running_loss += loss.item() * images.size(0)\n",
    "\n",
    "        epoch_loss = running_loss / len(train_dataloader.dataset)\n",
    "        \n",
    "        # Validation loop\n",
    "        model.eval()\n",
    "        correct = 0\n",
    "        total = 0\n",
    "        with torch.no_grad():\n",
    "            for images, labels in val_dataloader:\n",
    "                images, labels = images.to(device), labels.to(device)\n",
    "                outputs = model(images)\n",
    "                _, predicted = torch.max(outputs.data, 1)\n",
    "                total += labels.size(0)\n",
    "                correct += (predicted == labels).sum().item()\n",
    "\n",
    "        accuracy = 100 * correct / total\n",
    "        \n",
    "        # Report intermediate result to Optuna\n",
    "        trial.report(accuracy, epoch)\n",
    "        \n",
    "        # Handle pruning (if applicable)\n",
    "        if trial.should_prune():\n",
    "            raise optuna.exceptions.TrialPruned()\n",
    "\n",
    "    end = time.time()\n",
    "    print(f\"Execution time: {end - start} seconds\")\n",
    "    \n",
    "    return accuracy"
   ]
  },
  {
   "cell_type": "code",
   "execution_count": 34,
   "id": "8a6a4a91-64a8-4ac4-b60c-fcdac5e6fadb",
   "metadata": {},
   "outputs": [
    {
     "name": "stderr",
     "output_type": "stream",
     "text": [
      "[I 2025-03-24 22:21:25,929] A new study created in memory with name: no-name-52265b82-2b3d-430e-8c01-b9eb7c749765\n",
      "[I 2025-03-24 22:26:08,672] Trial 0 finished with value: 78.78260869565217 and parameters: {'lr': 0.00036237500879311463, 'dropout_rate': 0.6106701671282844}. Best is trial 0 with value: 78.78260869565217.\n"
     ]
    },
    {
     "name": "stdout",
     "output_type": "stream",
     "text": [
      "Execution time: 275.549711227417 seconds\n"
     ]
    },
    {
     "name": "stderr",
     "output_type": "stream",
     "text": [
      "[I 2025-03-24 22:31:22,364] Trial 1 finished with value: 77.3913043478261 and parameters: {'lr': 0.0001528315480713554, 'dropout_rate': 0.31027771472190546}. Best is trial 0 with value: 78.78260869565217.\n"
     ]
    },
    {
     "name": "stdout",
     "output_type": "stream",
     "text": [
      "Execution time: 313.0008051395416 seconds\n"
     ]
    },
    {
     "name": "stderr",
     "output_type": "stream",
     "text": [
      "[I 2025-03-24 22:39:53,002] Trial 2 finished with value: 69.04347826086956 and parameters: {'lr': 3.3726666407719794e-05, 'dropout_rate': 0.629450296140038}. Best is trial 0 with value: 78.78260869565217.\n"
     ]
    },
    {
     "name": "stdout",
     "output_type": "stream",
     "text": [
      "Execution time: 509.9529790878296 seconds\n"
     ]
    },
    {
     "name": "stderr",
     "output_type": "stream",
     "text": [
      "[I 2025-03-24 22:48:50,593] Trial 3 finished with value: 79.82608695652173 and parameters: {'lr': 0.00018586171670472728, 'dropout_rate': 0.283203813809928}. Best is trial 3 with value: 79.82608695652173.\n"
     ]
    },
    {
     "name": "stdout",
     "output_type": "stream",
     "text": [
      "Execution time: 536.7192740440369 seconds\n"
     ]
    },
    {
     "name": "stderr",
     "output_type": "stream",
     "text": [
      "[I 2025-03-24 22:58:30,728] Trial 4 finished with value: 74.6086956521739 and parameters: {'lr': 0.004395544040113425, 'dropout_rate': 0.3065437252472715}. Best is trial 3 with value: 79.82608695652173.\n"
     ]
    },
    {
     "name": "stdout",
     "output_type": "stream",
     "text": [
      "Execution time: 579.3023180961609 seconds\n"
     ]
    },
    {
     "name": "stderr",
     "output_type": "stream",
     "text": [
      "[I 2025-03-24 23:02:26,035] Trial 5 pruned. \n",
      "[I 2025-03-24 23:05:59,792] Trial 6 pruned. \n",
      "[I 2025-03-24 23:13:08,800] Trial 7 pruned. \n",
      "[I 2025-03-24 23:22:56,730] Trial 8 finished with value: 77.04347826086956 and parameters: {'lr': 0.001167355413120434, 'dropout_rate': 0.2524336216534859}. Best is trial 3 with value: 79.82608695652173.\n"
     ]
    },
    {
     "name": "stdout",
     "output_type": "stream",
     "text": [
      "Execution time: 585.545590877533 seconds\n"
     ]
    },
    {
     "name": "stderr",
     "output_type": "stream",
     "text": [
      "[I 2025-03-24 23:33:33,465] Trial 9 finished with value: 78.78260869565217 and parameters: {'lr': 0.0035405659311887132, 'dropout_rate': 0.6360245273908288}. Best is trial 3 with value: 79.82608695652173.\n"
     ]
    },
    {
     "name": "stdout",
     "output_type": "stream",
     "text": [
      "Execution time: 635.1294829845428 seconds\n"
     ]
    },
    {
     "name": "stderr",
     "output_type": "stream",
     "text": [
      "[I 2025-03-24 23:36:44,842] Trial 10 pruned. \n",
      "[I 2025-03-24 23:40:10,236] Trial 11 pruned. \n",
      "[I 2025-03-24 23:50:46,091] Trial 12 finished with value: 78.78260869565217 and parameters: {'lr': 0.0003424673191062632, 'dropout_rate': 0.41817172867316965}. Best is trial 3 with value: 79.82608695652173.\n"
     ]
    },
    {
     "name": "stdout",
     "output_type": "stream",
     "text": [
      "Execution time: 634.0062141418457 seconds\n"
     ]
    },
    {
     "name": "stderr",
     "output_type": "stream",
     "text": [
      "[I 2025-03-25 00:00:20,865] Trial 13 finished with value: 77.21739130434783 and parameters: {'lr': 0.0010336444961570406, 'dropout_rate': 0.20412959513498924}. Best is trial 3 with value: 79.82608695652173.\n"
     ]
    },
    {
     "name": "stdout",
     "output_type": "stream",
     "text": [
      "Execution time: 573.842288017273 seconds\n"
     ]
    },
    {
     "name": "stderr",
     "output_type": "stream",
     "text": [
      "[I 2025-03-25 00:02:58,195] Trial 14 pruned. \n",
      "[I 2025-03-25 00:05:36,664] Trial 15 pruned. \n",
      "[I 2025-03-25 00:23:27,889] Trial 16 pruned. \n",
      "[I 2025-03-25 00:26:22,629] Trial 17 pruned. \n",
      "[I 2025-03-25 01:31:16,102] Trial 18 finished with value: 74.08695652173913 and parameters: {'lr': 0.0019252190150146886, 'dropout_rate': 0.36141769948802965}. Best is trial 3 with value: 79.82608695652173.\n"
     ]
    },
    {
     "name": "stdout",
     "output_type": "stream",
     "text": [
      "Execution time: 3892.9494099617004 seconds\n"
     ]
    },
    {
     "name": "stderr",
     "output_type": "stream",
     "text": [
      "[I 2025-03-25 01:48:00,942] Trial 19 pruned. \n"
     ]
    }
   ],
   "source": [
    "# Create the study and optimize\n",
    "study = optuna.create_study(direction='maximize')\n",
    "study.optimize(objective, n_trials=20)"
   ]
  },
  {
   "cell_type": "code",
   "execution_count": 38,
   "id": "668efe66-ebe4-4c26-b483-240481cf45d7",
   "metadata": {},
   "outputs": [
    {
     "data": {
      "text/plain": [
       "{'lr': 0.00018586171670472728, 'dropout_rate': 0.283203813809928}"
      ]
     },
     "execution_count": 38,
     "metadata": {},
     "output_type": "execute_result"
    }
   ],
   "source": [
    "study.best_params"
   ]
  },
  {
   "cell_type": "code",
   "execution_count": null,
   "id": "37a30a25-cbe6-4d65-98cb-e3e8e1761df0",
   "metadata": {},
   "outputs": [],
   "source": [
    "#### Using hyperparameter tuning, we figured that the best parameters for resnet models are (1) Dropout rate = 0.2 (2) Learning Rate = 0.0001. So now let's train the model once again with these best parameters"
   ]
  },
  {
   "cell_type": "code",
   "execution_count": 43,
   "id": "5abbaf76-f32f-457c-870b-00b2c59d1332",
   "metadata": {},
   "outputs": [
    {
     "name": "stdout",
     "output_type": "stream",
     "text": [
      "Batch: 10, Epoch: 1, Loss: 1.73\n",
      "Batch: 20, Epoch: 1, Loss: 1.54\n",
      "Batch: 30, Epoch: 1, Loss: 1.20\n",
      "Batch: 40, Epoch: 1, Loss: 1.18\n",
      "Batch: 50, Epoch: 1, Loss: 1.02\n",
      "Epoch [1/10], Avg Loss: 1.3865, trainloader size:1725, my loss: 1.3858161999119654\n",
      "*** Validation Accuracy: 70.61% ***\n",
      "Batch: 10, Epoch: 2, Loss: 0.77\n",
      "Batch: 20, Epoch: 2, Loss: 0.76\n",
      "Batch: 30, Epoch: 2, Loss: 0.71\n",
      "Batch: 40, Epoch: 2, Loss: 0.54\n",
      "Batch: 50, Epoch: 2, Loss: 0.66\n",
      "Epoch [2/10], Avg Loss: 0.6736, trainloader size:1725, my loss: 0.6736456807012912\n",
      "*** Validation Accuracy: 76.52% ***\n",
      "Batch: 10, Epoch: 3, Loss: 0.54\n",
      "Batch: 20, Epoch: 3, Loss: 0.31\n",
      "Batch: 30, Epoch: 3, Loss: 0.40\n",
      "Batch: 40, Epoch: 3, Loss: 0.68\n",
      "Batch: 50, Epoch: 3, Loss: 0.48\n",
      "Epoch [3/10], Avg Loss: 0.4609, trainloader size:1725, my loss: 0.46106180272720476\n",
      "*** Validation Accuracy: 76.87% ***\n",
      "Batch: 10, Epoch: 4, Loss: 0.27\n",
      "Batch: 20, Epoch: 4, Loss: 0.41\n",
      "Batch: 30, Epoch: 4, Loss: 0.25\n",
      "Batch: 40, Epoch: 4, Loss: 0.21\n",
      "Batch: 50, Epoch: 4, Loss: 0.58\n",
      "Epoch [4/10], Avg Loss: 0.2880, trainloader size:1725, my loss: 0.28820315527695195\n",
      "*** Validation Accuracy: 78.43% ***\n",
      "Batch: 10, Epoch: 5, Loss: 0.10\n",
      "Batch: 20, Epoch: 5, Loss: 0.14\n",
      "Batch: 30, Epoch: 5, Loss: 0.34\n",
      "Batch: 40, Epoch: 5, Loss: 0.26\n",
      "Batch: 50, Epoch: 5, Loss: 0.28\n",
      "Epoch [5/10], Avg Loss: 0.1683, trainloader size:1725, my loss: 0.16832399864991507\n",
      "*** Validation Accuracy: 77.39% ***\n",
      "Batch: 10, Epoch: 6, Loss: 0.27\n",
      "Batch: 20, Epoch: 6, Loss: 0.12\n",
      "Batch: 30, Epoch: 6, Loss: 0.16\n",
      "Batch: 40, Epoch: 6, Loss: 0.03\n",
      "Batch: 50, Epoch: 6, Loss: 0.23\n",
      "Epoch [6/10], Avg Loss: 0.1299, trainloader size:1725, my loss: 0.12988672067445736\n",
      "*** Validation Accuracy: 80.52% ***\n",
      "Batch: 10, Epoch: 7, Loss: 0.27\n",
      "Batch: 20, Epoch: 7, Loss: 0.13\n",
      "Batch: 30, Epoch: 7, Loss: 0.13\n",
      "Batch: 40, Epoch: 7, Loss: 0.03\n",
      "Batch: 50, Epoch: 7, Loss: 0.21\n",
      "Epoch [7/10], Avg Loss: 0.1149, trainloader size:1725, my loss: 0.11477588330981908\n",
      "*** Validation Accuracy: 77.91% ***\n",
      "Batch: 10, Epoch: 8, Loss: 0.06\n",
      "Batch: 20, Epoch: 8, Loss: 0.02\n",
      "Batch: 30, Epoch: 8, Loss: 0.01\n",
      "Batch: 40, Epoch: 8, Loss: 0.03\n",
      "Batch: 50, Epoch: 8, Loss: 0.07\n",
      "Epoch [8/10], Avg Loss: 0.0764, trainloader size:1725, my loss: 0.07636639872496878\n",
      "*** Validation Accuracy: 79.13% ***\n",
      "Batch: 10, Epoch: 9, Loss: 0.01\n",
      "Batch: 20, Epoch: 9, Loss: 0.11\n",
      "Batch: 30, Epoch: 9, Loss: 0.01\n",
      "Batch: 40, Epoch: 9, Loss: 0.08\n",
      "Batch: 50, Epoch: 9, Loss: 0.04\n",
      "Epoch [9/10], Avg Loss: 0.0593, trainloader size:1725, my loss: 0.059317653308863995\n",
      "*** Validation Accuracy: 79.65% ***\n",
      "Batch: 10, Epoch: 10, Loss: 0.06\n",
      "Batch: 20, Epoch: 10, Loss: 0.10\n",
      "Batch: 30, Epoch: 10, Loss: 0.09\n",
      "Batch: 40, Epoch: 10, Loss: 0.03\n",
      "Batch: 50, Epoch: 10, Loss: 0.11\n",
      "Epoch [10/10], Avg Loss: 0.0520, trainloader size:1725, my loss: 0.05209922230009128\n",
      "*** Validation Accuracy: 79.65% ***\n",
      "Execution time: 2615.4009273052216 seconds\n"
     ]
    }
   ],
   "source": [
    "model = CarClassifierResNet(num_classes=num_classes, dropout_rate=0.2).to(device)\n",
    "criterion = nn.CrossEntropyLoss()\n",
    "optimizer = optim.Adam(filter(lambda p: p.requires_grad, model.parameters()), lr=0.0001)\n",
    "\n",
    "labels, predictions = train_model(model, criterion, optimizer, epochs=10)"
   ]
  },
  {
   "cell_type": "markdown",
   "id": "42f90118-2b77-41a6-b53e-c2ef6e741715",
   "metadata": {},
   "source": [
    "### Model Evaluation using Confusion Matrix and Classification Report"
   ]
  },
  {
   "cell_type": "code",
   "execution_count": 44,
   "id": "44c608be-3027-4814-ae54-33bcc865c96c",
   "metadata": {},
   "outputs": [
    {
     "name": "stdout",
     "output_type": "stream",
     "text": [
      "              precision    recall  f1-score   support\n",
      "\n",
      "           0       0.87      0.79      0.83       127\n",
      "           1       0.68      0.84      0.75        93\n",
      "           2       0.92      0.89      0.90       135\n",
      "           3       0.89      0.68      0.77        74\n",
      "           4       0.55      0.75      0.64        61\n",
      "           5       0.85      0.75      0.80        85\n",
      "\n",
      "    accuracy                           0.80       575\n",
      "   macro avg       0.79      0.78      0.78       575\n",
      "weighted avg       0.82      0.80      0.80       575\n",
      "\n"
     ]
    }
   ],
   "source": [
    "from sklearn.metrics import classification_report\n",
    "\n",
    "report = classification_report(labels, predictions)\n",
    "print(report)"
   ]
  },
  {
   "cell_type": "code",
   "execution_count": null,
   "id": "cad70262-c56b-4096-b04c-08e30462b776",
   "metadata": {},
   "outputs": [],
   "source": []
  },
  {
   "cell_type": "code",
   "execution_count": 45,
   "id": "d3b275da-e686-45cf-810f-d91c3a201173",
   "metadata": {},
   "outputs": [
    {
     "data": {
      "image/png": "[encoded data removed]",
      "text/plain": [
       "<Figure size 640x480 with 2 Axes>"
      ]
     },
     "metadata": {},
     "output_type": "display_data"
    }
   ],
   "source": [
    "import numpy as np\n",
    "from sklearn.metrics import confusion_matrix, ConfusionMatrixDisplay\n",
    "from matplotlib import pyplot as plt\n",
    "\n",
    "conf_matrix = confusion_matrix(labels, predictions, labels=np.arange(num_classes))\n",
    "disp = ConfusionMatrixDisplay(confusion_matrix=conf_matrix, display_labels=class_names)\n",
    "disp.plot(cmap=plt.cm.Blues, xticks_rotation=45)\n",
    "plt.title(\"Confusion Matrix for Vehicle Damage Classification\")\n",
    "plt.show()"
   ]
  },
  {
   "cell_type": "markdown",
   "id": "4cc66a0f-e4e7-44a9-b9e9-7bf3aa1b0285",
   "metadata": {},
   "source": [
    "### Save the model"
   ]
  },
  {
   "cell_type": "code",
   "execution_count": 46,
   "id": "93e07110-0e44-4952-a83f-9bc561291922",
   "metadata": {},
   "outputs": [],
   "source": [
    "torch.save(model.state_dict(), 'saved_model.pth')"
   ]
  },
  {
   "cell_type": "code",
   "execution_count": null,
   "id": "019ed328-a5b0-412c-83ee-d56a6a917b42",
   "metadata": {},
   "outputs": [],
   "source": []
  }
 ],
 "metadata": {
  "kernelspec": {
   "display_name": "Python 3 (ipykernel)",
   "language": "python",
   "name": "python3"
  },
  "language_info": {
   "codemirror_mode": {
    "name": "ipython",
    "version": 3
   },
   "file_extension": ".py",
   "mimetype": "text/x-python",
   "name": "python",
   "nbconvert_exporter": "python",
   "pygments_lexer": "ipython3",
   "version": "3.12.6"
  }
 },
 "nbformat": 4,
 "nbformat_minor": 5
}
